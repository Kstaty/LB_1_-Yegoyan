{
 "cells": [
  {
   "cell_type": "markdown",
   "metadata": {},
   "source": [
    "*Credits: materials from this notebook belong to YSDA [Practical DL](https://github.com/yandexdataschool/Practical_DL) course. Special thanks for making them available online.*"
   ]
  },
  {
   "cell_type": "markdown",
   "metadata": {},
   "source": [
    "# Lab assignment №1, part 1\n",
    "\n",
    "This lab assignment consists of several parts. You are supposed to make some transformations, train some models, estimate the quality of the models and explain your results.\n",
    "\n",
    "Several comments:\n",
    "* Don't hesitate to ask questions, it's a good practice.\n",
    "* No private/public sharing, please. The copied assignments will be graded with 0 points.\n",
    "* Blocks of this lab will be graded separately."
   ]
  },
  {
   "cell_type": "markdown",
   "metadata": {},
   "source": [
    "## 1. Matrix differentiation"
   ]
  },
  {
   "cell_type": "markdown",
   "metadata": {},
   "source": [
    "Since it easy to google every task please please please try to undestand what's going on. The \"just answer\" thing will be not counted, make sure to present derivation of your solution. It is absolutely OK if you found an answer on web then just exercise in $\\LaTeX$ copying it into here."
   ]
  },
  {
   "cell_type": "markdown",
   "metadata": {},
   "source": [
    "Useful links: \n",
    "[1](http://www.machinelearning.ru/wiki/images/2/2a/Matrix-Gauss.pdf)\n",
    "[2](http://www.atmos.washington.edu/~dennis/MatrixCalculus.pdf)"
   ]
  },
  {
   "cell_type": "markdown",
   "metadata": {},
   "source": [
    "## ex. 1"
   ]
  },
  {
   "cell_type": "markdown",
   "metadata": {},
   "source": [
    "$$  \n",
    "y = x^Tx,  \\quad x \\in \\mathbb{R}^N \n",
    "$$"
   ]
  },
  {
   "cell_type": "markdown",
   "metadata": {},
   "source": [
    "$$\n",
    "\\frac{dy}{dx} = \n",
    "$$ "
   ]
  },
  {
   "cell_type": "markdown",
   "metadata": {},
   "source": [
    "1. Представим \\( y \\) в терминах матричного умножения\n",
    "\n",
    "   $$\n",
    "   y = x^T x = \\sum_{i=1}^N x_i^2\n",
    "   $$\n",
    "\n",
    "2. Дифференцируем по \\( x \\)\n",
    "\n",
    "   $$\n",
    "   \\frac{dy}{dx}\n",
    "   $$ \n",
    "\n",
    "   результат представляет собой вектор частных производных\n",
    "\n",
    "   $$\n",
    "   \\frac{\\partial y}{\\partial x_i} = 2x_i\n",
    "   $$\n",
    "\n",
    "3. Объединим все частные производные в одно выражение\n",
    "\n",
    "   $$\n",
    "   \\frac{dy}{dx} = 2x\n",
    "   $$\n",
    "\n",
    "Ответ: 2x"
   ]
  },
  {
   "cell_type": "markdown",
   "metadata": {},
   "source": [
    "## ex. 2"
   ]
  },
  {
   "cell_type": "markdown",
   "metadata": {},
   "source": [
    "$$ y = tr(AB) \\quad A,B \\in \\mathbb{R}^{N \\times N} $$ "
   ]
  },
  {
   "cell_type": "markdown",
   "metadata": {},
   "source": [
    "$$\n",
    "\\frac{dy}{dA} =\n",
    "$$"
   ]
  },
  {
   "cell_type": "markdown",
   "metadata": {},
   "source": [
    "1. Используем правило производной трассировки: Производная {tr}(AX) относительно \\( A \\) определяется выражением \\( X^T \\). Это свойство можно применить к {tr}(AB).\n",
    "\n",
    "2. Выполним дифференцирование: Поскольку {tr}(AB) скалярная функция, и мы дифференцируем по \\( A \\), то получим:\n",
    "\n",
    "   $$\n",
    "   \\frac{dy}{dA} = B^T\n",
    "   $$\n",
    "\n",
    "Ответ: B^T"
   ]
  },
  {
   "cell_type": "markdown",
   "metadata": {},
   "source": [
    "## ex. 3"
   ]
  },
  {
   "cell_type": "markdown",
   "metadata": {},
   "source": [
    "$$  \n",
    "y = x^TAc , \\quad A\\in \\mathbb{R}^{N \\times N}, x\\in \\mathbb{R}^{N}, c\\in \\mathbb{R}^{N} \n",
    "$$"
   ]
  },
  {
   "cell_type": "markdown",
   "metadata": {},
   "source": [
    "$$\n",
    "\\frac{dy}{dx} =\n",
    "$$"
   ]
  },
  {
   "cell_type": "markdown",
   "metadata": {},
   "source": [
    "$$\n",
    "\\frac{dy}{dA} =\n",
    "$$ "
   ]
  },
  {
   "cell_type": "markdown",
   "metadata": {},
   "source": [
    "Hint for the latter (one of the ways): use *ex. 2* result and the fact \n",
    "$$\n",
    "tr(ABC) = tr (CAB)\n",
    "$$"
   ]
  },
  {
   "cell_type": "markdown",
   "metadata": {},
   "source": [
    "\n",
    "\n",
    "1. Найдем производную по \\( x \\)\n",
    "\n",
    "   Представим \\( y \\) в связи с \\( x \\):\n",
    "\n",
    "   $$\n",
    "   y = x^T (A c)\n",
    "   $$\n",
    "\n",
    "   \\( A c \\) это верктор из {R}^N. Поскольку \\( y \\) линейно зависит от \\( x \\), производная по \\( x \\) равна:\n",
    "\n",
    "   $$\n",
    "   \\frac{dy}{dx} = A c\n",
    "   $$\n",
    "\n",
    "   Ответ: Ac\n",
    "\n",
    "2. Найдем производную по \\( A \\)\n",
    "\n",
    "   Представим \\( y \\), использую обозначения трассировки, чтобы выразить зависимость от \\( A \\):\n",
    "\n",
    "   $$\n",
    "   y = \\operatorname{tr}(x^T A c) = \\operatorname{tr}(A c x^T)\n",
    "   $$\n",
    "\n",
    "   Используем циклическое свойство трассировки: tr(ABC) =tr(CAB)\n",
    "\n",
    "   Применим правило производного следа, где производная {tr}(AX) по \\( A \\) равна \\( X^T \\), подставляя \\( X = c x^T \\), получим:\n",
    "\n",
    "   $$\n",
    "   \\frac{dy}{dA} = (c x^T)^T = x c^T\n",
    "   $$\n",
    "\n",
    "Ответ: x c^T\n"
   ]
  },
  {
   "cell_type": "markdown",
   "metadata": {},
   "source": [
    "## ex. 4"
   ]
  },
  {
   "cell_type": "markdown",
   "metadata": {},
   "source": [
    "Classic matrix factorization example. Given matrix $X$ you need to find $A$, $S$ to approximate $X$. This can be done by simple gradient descent iteratively alternating $A$ and $S$ updates.\n",
    "$$\n",
    "J = || X - AS ||_F^2  , \\quad A\\in \\mathbb{R}^{N \\times R} , \\quad S\\in \\mathbb{R}^{R \\times M}\n",
    "$$\n",
    "$$\n",
    "\\frac{dJ}{dS} = ? \n",
    "$$\n",
    "\n",
    "You may use one of the following approaches:"
   ]
  },
  {
   "cell_type": "markdown",
   "metadata": {},
   "source": [
    "#### First approach\n",
    "Using ex.2 and the fact:\n",
    "$$\n",
    "|| X ||_F^2 = tr(XX^T) \n",
    "$$ \n",
    "it is easy to derive gradients (you can find it in one of the refs). "
   ]
  },
  {
   "cell_type": "markdown",
   "metadata": {},
   "source": [
    "#### Second approach\n",
    "You can use *slightly different techniques* if they suits you. Take a look at this derivation:\n",
    "<img src=\"grad.png\">\n",
    "(excerpt from [Handbook of blind source separation, Jutten, page 517](https://books.google.ru/books?id=PTbj03bYH6kC&printsec=frontcover&dq=Handbook+of+Blind+Source+Separation&hl=en&sa=X&ved=0ahUKEwi-q_apiJDLAhULvXIKHVXJDWcQ6AEIHDAA#v=onepage&q=Handbook%20of%20Blind%20Source%20Separation&f=false), open for better picture)."
   ]
  },
  {
   "cell_type": "markdown",
   "metadata": {},
   "source": [
    "#### Third approach\n",
    "And finally we can use chain rule! \n",
    "let $ F = AS $ \n",
    "\n",
    "**Find**\n",
    "$$\n",
    "\\frac{dJ}{dF} =  \n",
    "$$ \n",
    "and \n",
    "$$\n",
    "\\frac{dF}{dS} =  \n",
    "$$ \n",
    "(the shape should be $ NM \\times RM )$.\n",
    "\n",
    "Now it is easy do get desired gradients:\n",
    "$$\n",
    "\\frac{dJ}{dS} =  \n",
    "$$ "
   ]
  },
  {
   "cell_type": "markdown",
   "metadata": {},
   "source": [
    "1. Свойство нормы Фробениуса:\n",
    "\n",
    "   Норму Фробениуса можно выразить как:\n",
    "\n",
    "   $$\n",
    "   \\|X\\|^2_F = \\operatorname{tr}(X X^T).\n",
    "   $$\n",
    "\n",
    "   Это свойство можно использовать для получения градиента \\( J \\).\n",
    "\n",
    "---\n",
    "\n",
    "2. Альтернативный вывод:\n",
    "\n",
    "   Можно получить градиент, используя методы, описанные в предложенном источнике. Этот подход включает в себя набор упрощений, дающих представление о конкретных приложениях.\n",
    "\n",
    "---\n",
    "\n",
    "3. Правило цепи:\n",
    "\n",
    "   Определим промежуточную матрицу:\n",
    "\n",
    "   $$\n",
    "   F = AS.\n",
    "   $$\n",
    "\n",
    "   Вычислим:\n",
    "\n",
    "   $$\n",
    "   \\frac{dJ}{dF}.\n",
    "   $$\n",
    "\n",
    "   Поскольку \\( J = \\|X - F\\|^2_F \\), то производная по \\( F \\) равна:\n",
    "\n",
    "   $$\n",
    "   \\frac{dJ}{dF} = -2(X - F).\n",
    "   $$\n",
    "\n",
    "   Вычислим производную \\( F \\) по \\( S \\). Поскольку \\( F = AS \\):\n",
    "\n",
    "   $$\n",
    "   \\frac{dF}{dS} = A,\n",
    "   $$\n",
    "\n",
    "   где \\( A \\) применяется к каждому столбцу \\( S \\).\n",
    "\n",
    "   Используя правило цепи, градиент \\( J \\) относительно \\( S \\) равен:\n",
    "\n",
    "   $$\n",
    "   \\frac{dJ}{dS} = A^T \\frac{dJ}{dF}.\n",
    "   $$\n",
    "\n",
    "   Подставив \\( \\frac{dJ}{dF} = -2(X - AS) \\), получим:\n",
    "\n",
    "   $$\n",
    "   \\frac{dJ}{dS} = -2 A^T (X - AS).\n",
    "   $$\n",
    "\n",
    "---\n",
    "\n",
    "Окончательный градиент\n",
    "\n",
    "Градиент \\( J \\) относительно \\( S \\) равен:\n",
    "\n",
    "$$\n",
    "\\frac{dJ}{dS} = -2 A^T (X - AS).\n",
    "$$\n"
   ]
  },
  {
   "cell_type": "markdown",
   "metadata": {
    "collapsed": true,
    "jupyter": {
     "outputs_hidden": true
    }
   },
   "source": [
    "## 2. kNN questions\n",
    "Here come the questions from the assignment0_01. Please, refer to the assignment0_01 to get the context of the questions."
   ]
  },
  {
   "cell_type": "markdown",
   "metadata": {},
   "source": [
    "\n",
    "### Question 1\n",
    "\n",
    "Notice the structured patterns in the distance matrix, where some rows or columns are visible brighter. (Note that with the default color scheme black indicates low distances while white indicates high distances.)\n",
    "\n",
    "- What in the data is the cause behind the distinctly bright rows?\n",
    "- What causes the columns?\n",
    "\n",
    "**Наблюдение ярких строк в матрице расстояний**\n",
    "\n",
    "**Ответ:**  \n",
    "Яркие строки обозначают тестовые примеры, которые выделяются среди всех обучающих примеров. В матрице расстояний яркие строки обозначают точки данных, которые постоянно находятся далеко от других в наборе данных. Это может означать, что эти точки являются выбросами или принадлежат малонаселенной области пространства данных. Их расстояния до всех остальных точек относительно велики, поэтому соответствующие им строки в матрице расстояний выглядят ярче. Эти строки возникают из-за внутренней структуры данных, когда некоторые точки имеют уникальные характеристики или расположены в регионах с меньшим количеством соседей, другими словами, характеризуются принадлежностью к другому классу либо выбросами. \n",
    "\n",
    "**Наблюдение ярких столбцов в матрице расстояний**\n",
    "\n",
    "**Ответ:**  \n",
    "Яркие столбцы обозначают определенные обучающие примеры, которые далеки от большинства тестовых примеров. В матрице расстояний яркие столбцы указывают на то, что определенные точки (или группы точек) постоянно находятся далеко от других в наборе данных. Это может быть связано с конкретными особенностями или атрибутами, которые отличают эти точки. Например, если точка или кластер имеет экстремальные значения в определенных измерениях, это может привести к большим расстояниям относительно остальных данных. Такие закономерности часто возникают в наборах данных с отдельными кластерами или выбросами, где эти точки значительно отличаются от других групп.\n"
   ]
  },
  {
   "cell_type": "markdown",
   "metadata": {},
   "source": [
    "### Question 2\n",
    "\n",
    "We can also use other distance metrics such as L1 distance.\n",
    "For pixel values $p_{ij}^{(k)}$ at location $(i,j)$ of some image $I_k$, \n",
    "\n",
    "the mean $\\mu$ across all pixels over all images is $$\\mu=\\frac{1}{nhw}\\sum_{k=1}^n\\sum_{i=1}^{h}\\sum_{j=1}^{w}p_{ij}^{(k)}$$\n",
    "And the pixel-wise mean $\\mu_{ij}$ across all images is \n",
    "$$\\mu_{ij}=\\frac{1}{n}\\sum_{k=1}^np_{ij}^{(k)}.$$\n",
    "The general standard deviation $\\sigma$ and pixel-wise standard deviation $\\sigma_{ij}$ is defined similarly.\n",
    "\n",
    "Which of the following preprocessing steps will not change the performance of a Nearest Neighbor classifier that uses L1 distance? Select all that apply.\n",
    "1. Subtracting the mean $\\mu$ ($\\tilde{p}_{ij}^{(k)}=p_{ij}^{(k)}-\\mu$.)\n",
    "2. Subtracting the per pixel mean $\\mu_{ij}$  ($\\tilde{p}_{ij}^{(k)}=p_{ij}^{(k)}-\\mu_{ij}$.)\n",
    "3. Subtracting the mean $\\mu$ and dividing by the standard deviation $\\sigma$.\n",
    "4. Subtracting the pixel-wise mean $\\mu_{ij}$ and dividing by the pixel-wise standard deviation $\\sigma_{ij}$.\n",
    "5. Rotating the coordinate axes of the data.\n",
    "\n",
    "*Your Answer:* 1 2 5\n",
    "\n",
    "*Your Explanation:*\n",
    "\n",
    "1. **Subtracting the mean $\\mu$:**  \n",
    "   Вычитание глобального среднего значения равномерно сдвигает все точки данных. Поскольку расстояние L1 основано на абсолютных различиях между соответствующими точками, этот шаг не влияет на относительные расстояния.\n",
    "\n",
    "2. **Subtracting the per-pixel mean $\\mu_{ij}$:**  \n",
    "   Вычитание среднего значения для каждого пикселя на всех изображениях гарантирует, что каждый пиксель будет центрирован. Это преобразование сохраняет относительные расстояния между изображениями и не влияет на производительность классификатора на основе L1.\n",
    "\n",
    "3. **Subtracting the mean $\\mu$ and dividing by the standard deviation $\\sigma$:**  \n",
    "   Нормализация данных путем деления на глобальное стандартное отклонение изменяет масштаб расстояний. Это может повлиять на относительные расстояния между точками, потенциально влияя на производительность классификатора.\n",
    "\n",
    "4. **Subtracting the pixel-wise mean $\\mu_{ij}$ and dividing by the pixel-wise standard deviation $\\sigma_{ij}$:**  \n",
    "   Попиксельная нормализация изменяет масштаб каждого пикселя, что может повлиять на относительные расстояния между изображениями.\n",
    "\n",
    "5. **Rotating the coordinate axes of the data:**  \n",
    "   Вращение данных меняет ориентацию координат, но не влияет на расстояния L1, поскольку метрика инвариантна к таким преобразованиям."
   ]
  },
  {
   "cell_type": "markdown",
   "metadata": {},
   "source": [
    "## Question 3\n",
    "\n",
    "Which of the following statements about $k$-Nearest Neighbor ($k$-NN) are true in a classification setting, and for all $k$? Select all that apply.\n",
    "\n",
    "1. The decision boundary (hyperplane between classes in feature space) of the $k$-NN classifier is linear.\n",
    "2. The training error of a 1-NN will always be lower than that of 5-NN.\n",
    "3. The test error of a 1-NN will always be lower than that of a 5-NN.\n",
    "4. The time needed to classify a test example with the $k$-NN classifier grows with the size of the training set.\n",
    "5. None of the above.\n",
    "\n",
    "---\n",
    "\n",
    "*Your Answer:* 2 4\n",
    "\n",
    "*Your Explanation:*\n",
    "\n",
    "**1. The decision boundary of the $k$-NN classifier is linear:**  \n",
    "Граница решения $k$-NN не является линейной; он сильно нелинейен и зависит от распределения точек обучающих данных в пространстве признаков.\n",
    "\n",
    "**2. The training error of a 1-NN will always be lower than that of 5-NN:**  \n",
    "Классификатор 1-NN запоминает данные обучения и не имеет ошибки обучения, тогда как классификатор 5-NN учитывает больше соседей, что может привести к несколько более высокой ошибке обучения.\n",
    "\n",
    "**3. The test error of a 1-NN will always be lower than that of a 5-NN:**  \n",
    "Хотя 1-NN может идеально соответствовать обучающим данным, он более склонен к переобучению, и его ошибка теста часто выше, чем у 5-NN, который обеспечивает лучшее обучение за счет усреднения по большему количеству соседейs.\n",
    "\n",
    "**4. The time needed to classify a test example with the $k$-NN classifier grows with the size of the training set:**  \n",
    "Классификатору $k$-NN необходимо вычислять расстояния до всех обучающих примеров для каждого тестового примера, поэтому временная сложность увеличивается с увеличением размера обучающего набора.\n"
   ]
  },
  {
   "cell_type": "markdown",
   "metadata": {},
   "source": []
  }
 ],
 "metadata": {
  "kernelspec": {
   "display_name": "Python 3",
   "language": "python",
   "name": "python3"
  },
  "language_info": {
   "codemirror_mode": {
    "name": "ipython",
    "version": 3
   },
   "file_extension": ".py",
   "mimetype": "text/x-python",
   "name": "python",
   "nbconvert_exporter": "python",
   "pygments_lexer": "ipython3",
   "version": "3.11.5"
  }
 },
 "nbformat": 4,
 "nbformat_minor": 4
}
